{
 "cells": [
  {
   "cell_type": "markdown",
   "metadata": {},
   "source": [
    "### 1.\tWrite a Python program to check if the given number is a Disarium Number?"
   ]
  },
  {
   "cell_type": "code",
   "execution_count": 1,
   "metadata": {},
   "outputs": [
    {
     "name": "stdout",
     "output_type": "stream",
     "text": [
      "Enter a number::20\n",
      "No, 20 is not a disarium number\n"
     ]
    }
   ],
   "source": [
    "# A Disarium number is a number defined by the following process: Sum of its digits powered with their \n",
    "# respective position is equal to the original number.\n",
    "\n",
    "n = int(input('Enter a number::'))\n",
    "n = str(n)\n",
    "sum = 0\n",
    "\n",
    "for i in range(0,len(n)):\n",
    "    sum += int(n[i])**(i+1)\n",
    "    \n",
    "if sum == int(n):\n",
    "    print(f'Yes, {n} is a disarium number')\n",
    "else:\n",
    "    print(f'No, {n} is not a disarium number')"
   ]
  },
  {
   "cell_type": "markdown",
   "metadata": {},
   "source": [
    "### 2.Write a Python program to print all disarium numbers between 1 to 100?"
   ]
  },
  {
   "cell_type": "code",
   "execution_count": 2,
   "metadata": {},
   "outputs": [
    {
     "name": "stdout",
     "output_type": "stream",
     "text": [
      "Disarium numbers between 1 to 100 are::  [1, 2, 3, 4, 5, 6, 7, 8, 9, 89]\n"
     ]
    }
   ],
   "source": [
    "disarium_numbers = []\n",
    "\n",
    "for j in range(1,101):\n",
    "    sum = 0\n",
    "    j = str(j)\n",
    "    for i in range(0,len(j)):\n",
    "        sum += int(j[i])**(i+1)\n",
    "    \n",
    "    if sum == int(j):\n",
    "        disarium_numbers.append(int(j))\n",
    "        \n",
    "print('Disarium numbers between 1 to 100 are:: ',disarium_numbers)"
   ]
  },
  {
   "cell_type": "markdown",
   "metadata": {},
   "source": [
    "### 3.Write a Python program to check if the given number is Happy Number?"
   ]
  },
  {
   "cell_type": "code",
   "execution_count": 5,
   "metadata": {},
   "outputs": [
    {
     "name": "stdout",
     "output_type": "stream",
     "text": [
      "Enter a number::6\n",
      "6 is not a happy number\n"
     ]
    }
   ],
   "source": [
    "# A happy number is a number which eventually reaches 1 when replaced by the \n",
    "# sum of the square of each digit.\n",
    "\n",
    "def sum_of_squares(n):\n",
    "    n = str(n)\n",
    "    sqr = 0 \n",
    "\n",
    "    for i in range(0,len(n)):\n",
    "        sqr += int(n[i]) ** 2\n",
    "    return sqr\n",
    "\n",
    "n = int(input('Enter a number::'))\n",
    "sum1 = n\n",
    "\n",
    "while sum1 != 1 and sum1 != 4:\n",
    "    sum1 = sum_of_squares(sum1)\n",
    "    \n",
    "if sum1 == 1: #happy number always ends in 1\n",
    "    print(f'{n} is a happy number')\n",
    "else: #Unhappy number ends in a cycle of repeating numbers which contain 4    \n",
    "    print(f'{n} is not a happy number')"
   ]
  },
  {
   "cell_type": "markdown",
   "metadata": {},
   "source": [
    "### 4.Write a Python program to print all happy numbers between 1 and 100?"
   ]
  },
  {
   "cell_type": "code",
   "execution_count": 6,
   "metadata": {},
   "outputs": [
    {
     "name": "stdout",
     "output_type": "stream",
     "text": [
      "List of happy numbers from 1 to 100 are::  [1, 7, 10, 13, 19, 23, 28, 31, 32, 44, 49, 68, 70, 79, 82, 86, 91, 94, 97, 100]\n"
     ]
    }
   ],
   "source": [
    "def sum_of_squares(n):\n",
    "    n = str(n)\n",
    "    sqr = 0 \n",
    "\n",
    "    for i in range(0,len(n)):\n",
    "        sqr += int(n[i]) ** 2\n",
    "    return sqr\n",
    "\n",
    "first_100_hn = []\n",
    "\n",
    "for n in range(1,101):\n",
    "    sum1 = n\n",
    "    \n",
    "    while sum1 != 1 and sum1 != 4:\n",
    "        sum1 = sum_of_squares(sum1)\n",
    "\n",
    "    if sum1 == 1: #happy number always ends in 1\n",
    "        first_100_hn.append(n)\n",
    "\n",
    "print('List of happy numbers from 1 to 100 are:: ',first_100_hn)"
   ]
  },
  {
   "cell_type": "markdown",
   "metadata": {},
   "source": [
    "### 5.Write a Python program to determine whether the given number is a Harshad Number?"
   ]
  },
  {
   "cell_type": "code",
   "execution_count": 7,
   "metadata": {},
   "outputs": [
    {
     "name": "stdout",
     "output_type": "stream",
     "text": [
      "Enter a number::20\n",
      "20 is a Harshad number\n"
     ]
    }
   ],
   "source": [
    "# A harshad number in a given number base is an integer that is divisible by the sum of its digits when \n",
    "# written in that base. \n",
    "\n",
    "n = int(input('Enter a number::'))\n",
    "n = str(n)\n",
    "sum1 = 0\n",
    "\n",
    "for i in range(0,len(n)):\n",
    "    sum1 += int(n[i])\n",
    "    \n",
    "if int(n) % sum1 == 0:\n",
    "    print(f'{n} is a Harshad number')\n",
    "else:\n",
    "    print(f'{n} is not a Harshad number')"
   ]
  },
  {
   "cell_type": "markdown",
   "metadata": {},
   "source": [
    "### 6.Write a Python program to print all pronic numbers between 1 and 100?"
   ]
  },
  {
   "cell_type": "code",
   "execution_count": 8,
   "metadata": {},
   "outputs": [
    {
     "name": "stdout",
     "output_type": "stream",
     "text": [
      "pronic numbers between 1 and 100 are::  [2, 6, 12, 20, 30, 42, 56, 72, 90]\n"
     ]
    }
   ],
   "source": [
    "# A pronic number is a number which is the product of two consecutive integers, that is, a number of the form n(n + 1).\n",
    "\n",
    "n = 7\n",
    "pronic_numbers = []\n",
    "\n",
    "for j in range(1,101):\n",
    "    for i in range(j):\n",
    "        if i * (i+1) == j:\n",
    "            pronic_numbers.append(j)\n",
    "\n",
    "print('pronic numbers between 1 and 100 are:: ',pronic_numbers)"
   ]
  },
  {
   "cell_type": "code",
   "execution_count": null,
   "metadata": {},
   "outputs": [],
   "source": []
  }
 ],
 "metadata": {
  "kernelspec": {
   "display_name": "Python 3",
   "language": "python",
   "name": "python3"
  },
  "language_info": {
   "codemirror_mode": {
    "name": "ipython",
    "version": 3
   },
   "file_extension": ".py",
   "mimetype": "text/x-python",
   "name": "python",
   "nbconvert_exporter": "python",
   "pygments_lexer": "ipython3",
   "version": "3.7.4"
  }
 },
 "nbformat": 4,
 "nbformat_minor": 2
}
