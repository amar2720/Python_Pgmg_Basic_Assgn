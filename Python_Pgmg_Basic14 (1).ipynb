{
 "cells": [
  {
   "cell_type": "markdown",
   "metadata": {},
   "source": [
    "### Question 1:\n",
    "\n",
    "### Define a class with a generator which can iterate the numbers, which are divisible by 7, between a given range 0 and n.\n"
   ]
  },
  {
   "cell_type": "code",
   "execution_count": 1,
   "metadata": {},
   "outputs": [
    {
     "name": "stdout",
     "output_type": "stream",
     "text": [
      "Enter value for n::30\n",
      "Numbers which are divisible by 7, between a given range 0 and 30 are::\n",
      "\n",
      "0\n",
      "7\n",
      "14\n",
      "21\n",
      "28\n"
     ]
    }
   ],
   "source": [
    "class Generator:\n",
    "    def __init__(self,n):\n",
    "        self.n = n\n",
    "        \n",
    "    def divby7(self):\n",
    "        for i in range(self.n):\n",
    "            if i % 7 == 0:\n",
    "                yield(i)\n",
    "    \n",
    "n = int(input('Enter value for n::'))\n",
    "print(f'Numbers which are divisible by 7, between a given range 0 and {n} are::\\n')\n",
    "g = Generator(n)\n",
    "for j in g.divby7():\n",
    "    print(j)"
   ]
  },
  {
   "cell_type": "markdown",
   "metadata": {},
   "source": [
    "### Question 2:\n",
    "### Write a program to compute the frequency of the words from the input. The output should output after sorting the key alphanumerically. \n",
    "\n",
    "Suppose the following input is supplied to the program:\n",
    "\n",
    "New to Python or choosing between Python 2 and Python 3? Read Python 2 or Python 3.\n",
    "\n",
    "Then, the output should be:\n",
    "\n",
    "2:2\n",
    "\n",
    "3.:1\n",
    "\n",
    "3?:1\n",
    "\n",
    "New:1\n",
    "\n",
    "Python:5\n",
    "\n",
    "Read:1\n",
    "\n",
    "and:1\n",
    "\n",
    "between:1\n",
    "\n",
    "choosing:1\n",
    "\n",
    "or:2\n",
    "\n",
    "to:1\n"
   ]
  },
  {
   "cell_type": "code",
   "execution_count": 2,
   "metadata": {},
   "outputs": [
    {
     "name": "stdout",
     "output_type": "stream",
     "text": [
      "Enter a senetnce::New to Python or choosing between Python 2 and Python 3? Read Python 2 or Python 3\n",
      "output is:: \n",
      "\n",
      "\n",
      "2 : 2\n",
      "\n",
      "3 : 1\n",
      "\n",
      "3? : 1\n",
      "\n",
      "New : 1\n",
      "\n",
      "Python : 5\n",
      "\n",
      "Read : 1\n",
      "\n",
      "and : 1\n",
      "\n",
      "between : 1\n",
      "\n",
      "choosing : 1\n",
      "\n",
      "or : 2\n",
      "\n",
      "to : 1\n"
     ]
    }
   ],
   "source": [
    "sentence = input('Enter a senetnce::')\n",
    "d = {}\n",
    "\n",
    "for word in sorted(sentence.split(' ')):\n",
    "    d[word] = d.get(word,0) + 1 # get() retrieve value of the key and increment if the same word appears\n",
    "        \n",
    "print('output is:: \\n')        \n",
    "for key,value in d.items():\n",
    "    print(f'\\n{key} : {value}')"
   ]
  },
  {
   "cell_type": "markdown",
   "metadata": {},
   "source": [
    "### Question 3:\n",
    "### Define a class Person and its two child classes: Male and Female. All classes have a method \"getGender\" which can print \"Male\" for Male class and \"Female\" for Female class.\n"
   ]
  },
  {
   "cell_type": "code",
   "execution_count": 3,
   "metadata": {},
   "outputs": [
    {
     "name": "stdout",
     "output_type": "stream",
     "text": [
      "Male\n",
      "Female\n"
     ]
    }
   ],
   "source": [
    "class Person(object):\n",
    "    def __init__(self):\n",
    "        self.gender = \"unknown\"\n",
    "\n",
    "    def getGender(self):\n",
    "        return self.gender\n",
    "    \n",
    "class Male(Person):\n",
    "    def __init__(self):\n",
    "        self.gender = \"Male\"\n",
    "\n",
    "    def getGender(self):\n",
    "        return self.gender\n",
    "        \n",
    "class Female(Person):\n",
    "    def __init__(self):\n",
    "        self.gender = \"Female\"\n",
    "  \n",
    "    def getGender(self):\n",
    "        return self.gender\n",
    "        \n",
    "m = Male()\n",
    "print(m.getGender())\n",
    "\n",
    "f =Female()\n",
    "print(f.getGender())"
   ]
  },
  {
   "cell_type": "markdown",
   "metadata": {},
   "source": [
    "### Question 4:\n",
    "### Please write a program to generate all sentences where subject is in [\"I\", \"You\"] and verb is in [\"Play\", \"Love\"] and the object is in [\"Hockey\",\"Football\"].\n"
   ]
  },
  {
   "cell_type": "code",
   "execution_count": 4,
   "metadata": {},
   "outputs": [
    {
     "name": "stdout",
     "output_type": "stream",
     "text": [
      "I Play Hockey\n",
      "I Play Football\n",
      "I Love Hockey\n",
      "I Love Football\n",
      "You Play Hockey\n",
      "You Play Football\n",
      "You Love Hockey\n",
      "You Love Football\n"
     ]
    }
   ],
   "source": [
    "subjects = [\"I\", \"You\"] \n",
    "verbs = [\"Play\", \"Love\"] \n",
    "objects = [\"Hockey\",\"Football\"]\n",
    "\n",
    "for s in subjects:\n",
    "    for v in verbs:\n",
    "        for o in objects:\n",
    "            print(f'{s} {v} {o}')"
   ]
  },
  {
   "cell_type": "markdown",
   "metadata": {},
   "source": [
    "### Question 5:\n",
    "### Please write a program to compress and decompress the string \"hello world!hello world!hello world!hello world!\".\n"
   ]
  },
  {
   "cell_type": "code",
   "execution_count": 5,
   "metadata": {},
   "outputs": [
    {
     "name": "stdout",
     "output_type": "stream",
     "text": [
      "b'x\\x9c\\xcbH\\xcd\\xc9\\xc9W(\\xcf/\\xcaIQ\\xcc \\x82\\r\\x00\\xbd[\\x11\\xf5'\n",
      "b'hello world!hello world!hello world!hello world!'\n"
     ]
    }
   ],
   "source": [
    "import zlib\n",
    "\n",
    "s1 = 'hello world!hello world!hello world!hello world!'\n",
    "s = bytes(s1, 'utf-8')\n",
    "\n",
    "\n",
    "compressed_s = zlib.compress(s)\n",
    "print(compressed_s)\n",
    "\n",
    "decompressed_s = zlib.decompress(compressed_s)\n",
    "print(decompressed_s)"
   ]
  },
  {
   "cell_type": "markdown",
   "metadata": {},
   "source": [
    "### Question 6:\n",
    "### Please write a binary search function which searches an item in a sorted list. The function should return the index of element to be searched in the list.\n"
   ]
  },
  {
   "cell_type": "code",
   "execution_count": 6,
   "metadata": {},
   "outputs": [
    {
     "name": "stdout",
     "output_type": "stream",
     "text": [
      "Element is present at index 4\n"
     ]
    }
   ],
   "source": [
    "def bin_search(l,key):\n",
    "    low = 0\n",
    "    high = len(l) - 1\n",
    "    mid = 0\n",
    " \n",
    "    while low <= high:\n",
    " \n",
    "        mid = (high + low) // 2\n",
    " \n",
    "        # If key is greater, ignore left half\n",
    "        if l[mid] < key:\n",
    "            low = mid + 1\n",
    " \n",
    "        # If key is smaller, ignore right half\n",
    "        elif l[mid] > key:\n",
    "            high = mid - 1\n",
    " \n",
    "        # means key is present at mid\n",
    "        else:\n",
    "            return mid\n",
    " \n",
    "    # element was not present\n",
    "    return False\n",
    "\n",
    "l = [1,2,3,4,5,6,7,8]\n",
    "x = 5\n",
    " \n",
    "result = bin_search(l, x)\n",
    " \n",
    "if result != False:\n",
    "    print(\"Element is present at index\", result)\n",
    "else:\n",
    "    print(\"Element is not present in array\")"
   ]
  },
  {
   "cell_type": "code",
   "execution_count": null,
   "metadata": {},
   "outputs": [],
   "source": []
  }
 ],
 "metadata": {
  "kernelspec": {
   "display_name": "Python 3",
   "language": "python",
   "name": "python3"
  },
  "language_info": {
   "codemirror_mode": {
    "name": "ipython",
    "version": 3
   },
   "file_extension": ".py",
   "mimetype": "text/x-python",
   "name": "python",
   "nbconvert_exporter": "python",
   "pygments_lexer": "ipython3",
   "version": "3.7.4"
  }
 },
 "nbformat": 4,
 "nbformat_minor": 2
}
