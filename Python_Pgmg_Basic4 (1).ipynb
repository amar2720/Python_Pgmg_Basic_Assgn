{
 "cells": [
  {
   "cell_type": "markdown",
   "metadata": {},
   "source": [
    "### 1.Write a Python Program to Find the Factorial of a Number?"
   ]
  },
  {
   "cell_type": "code",
   "execution_count": 1,
   "metadata": {},
   "outputs": [
    {
     "name": "stdout",
     "output_type": "stream",
     "text": [
      "Enter the number:20\n",
      "20 ! = 2432902008176640000\n"
     ]
    }
   ],
   "source": [
    "n = int(input(\"Enter the number:\"))\n",
    "\n",
    "if (n < 0):\n",
    "    print(\"Enter a positive integer\")\n",
    "    \n",
    "if (n==0):\n",
    "    print(n,\"! =\", 1)\n",
    "    \n",
    "if n > 0:\n",
    "    j=1\n",
    "    for i in range(1,n+1):\n",
    "        j = i*j\n",
    "             \n",
    "    print(n,\"! =\",j)"
   ]
  },
  {
   "cell_type": "markdown",
   "metadata": {},
   "source": [
    "### 2.Write a Python Program to Display the multiplication Table?"
   ]
  },
  {
   "cell_type": "code",
   "execution_count": 2,
   "metadata": {},
   "outputs": [
    {
     "name": "stdout",
     "output_type": "stream",
     "text": [
      "Enter the number:20\n",
      "\n",
      "\n",
      "Multiplication table for 20 \n",
      "\n",
      "20 x 1 = 20\n",
      "20 x 2 = 40\n",
      "20 x 3 = 60\n",
      "20 x 4 = 80\n",
      "20 x 5 = 100\n",
      "20 x 6 = 120\n",
      "20 x 7 = 140\n",
      "20 x 8 = 160\n",
      "20 x 9 = 180\n",
      "20 x 10 = 200\n"
     ]
    }
   ],
   "source": [
    "n = int(input(\"Enter the number:\"))\n",
    "print(\"\\n\")\n",
    "\n",
    "if (n < 0 or n==0):\n",
    "    print(\"Enter a positive integer greater than zero\")\n",
    "    \n",
    "if (n > 0):\n",
    "    print(\"Multiplication table for\",n,\"\\n\")\n",
    "    for i in range(1,11):\n",
    "        print (n, \"x\", i,\"=\",n*i)"
   ]
  },
  {
   "cell_type": "markdown",
   "metadata": {},
   "source": [
    "### 3.Write a Python Program to Print the Fibonacci sequence?"
   ]
  },
  {
   "cell_type": "code",
   "execution_count": 3,
   "metadata": {},
   "outputs": [
    {
     "name": "stdout",
     "output_type": "stream",
     "text": [
      "Enter how many numbers are required in the fibonacci sequence to be generated: 6\n",
      "\n",
      "\n",
      "0 1 1 2 3 5 "
     ]
    }
   ],
   "source": [
    "n = int(input(\"Enter how many numbers are required in the fibonacci sequence to be generated: \"))\n",
    "print(\"\\n\")\n",
    "\n",
    "if (n < 0 or n==0):\n",
    "    print(\"Enter a positive integer greater than zero\")\n",
    "    \n",
    "a=0\n",
    "b=1\n",
    "for i in range(0,n):\n",
    "        print(a,end=\" \")\n",
    "        temp = b\n",
    "        b=a+b\n",
    "        a=temp"
   ]
  },
  {
   "cell_type": "markdown",
   "metadata": {},
   "source": [
    "### 4.Write a Python Program to Check Armstrong Number?"
   ]
  },
  {
   "cell_type": "code",
   "execution_count": 4,
   "metadata": {},
   "outputs": [
    {
     "name": "stdout",
     "output_type": "stream",
     "text": [
      "Enter the number:20\n",
      "\n",
      "\n",
      "20 is not an Armstrong number\n"
     ]
    }
   ],
   "source": [
    "m = input(\"Enter the number:\")\n",
    "type(m)\n",
    "n=int(m)\n",
    "print(\"\\n\")\n",
    "\n",
    "if (n < 0 or n==0):\n",
    "    print(\"Enter a positive integer greater than zero\")\n",
    "\n",
    "\n",
    "if (n>0):\n",
    "    p=len(m)\n",
    "    \n",
    "    sum = 0\n",
    "    for i in range(0,p):\n",
    "        val=1\n",
    "        temp=int(m[i])\n",
    "        \n",
    "        for j in range(1,p+1):\n",
    "                val=temp*val\n",
    "                \n",
    "        sum = sum + val\n",
    "        \n",
    "    if (n==sum):\n",
    "        print(n, \"is an Armstrong number\")\n",
    "    else:\n",
    "        print(n, \"is not an Armstrong number\")"
   ]
  },
  {
   "cell_type": "markdown",
   "metadata": {},
   "source": [
    "### 6.\tWrite a Python Program to Find the Sum of Natural Numbers?"
   ]
  },
  {
   "cell_type": "code",
   "execution_count": 5,
   "metadata": {},
   "outputs": [
    {
     "name": "stdout",
     "output_type": "stream",
     "text": [
      "Enter the number:20\n",
      "\n",
      "\n",
      "Sum of first 20 natural numbers = 210\n"
     ]
    }
   ],
   "source": [
    "n = int(input(\"Enter the number:\"))\n",
    "print(\"\\n\")\n",
    "\n",
    "if (n < 0 or n==0):\n",
    "    print(\"Enter a positive integer greater than zero\")\n",
    "\n",
    "sum=0\n",
    "if (n>0):\n",
    "    for i in range(1,n+1):\n",
    "        sum=sum+i\n",
    "    print(\"Sum of first {} natural numbers = {}\".format(n,sum))"
   ]
  },
  {
   "cell_type": "code",
   "execution_count": null,
   "metadata": {},
   "outputs": [],
   "source": []
  }
 ],
 "metadata": {
  "kernelspec": {
   "display_name": "Python 3",
   "language": "python",
   "name": "python3"
  },
  "language_info": {
   "codemirror_mode": {
    "name": "ipython",
    "version": 3
   },
   "file_extension": ".py",
   "mimetype": "text/x-python",
   "name": "python",
   "nbconvert_exporter": "python",
   "pygments_lexer": "ipython3",
   "version": "3.7.4"
  }
 },
 "nbformat": 4,
 "nbformat_minor": 2
}
