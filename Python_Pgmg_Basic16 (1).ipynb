{
 "cells": [
  {
   "cell_type": "markdown",
   "metadata": {},
   "source": [
    "### Question1. Write a function that stutters a word as if someone is struggling to read it. The first two letters are repeated twice with an ellipsis ... and space after each, and then the word is pronounced with a question mark ?.\n",
    "Examples\n",
    "stutter(\"incredible\") ➞ \"in... in... incredible?\"\n",
    "\n",
    "stutter(\"enthusiastic\") ➞ \"en... en... enthusiastic?\"\n",
    "\n",
    "stutter(\"outstanding\") ➞ \"ou... ou... outstanding?\"\n",
    "\n",
    "Hint :- Assume all input is in lower case and at least two characters long.\n"
   ]
  },
  {
   "cell_type": "code",
   "execution_count": 2,
   "metadata": {},
   "outputs": [
    {
     "name": "stdout",
     "output_type": "stream",
     "text": [
      "Enter a word::awesome\n",
      "Output is:: aw... aw... awesome?\n"
     ]
    }
   ],
   "source": [
    "word = input('Enter a word::')\n",
    "word = str(word).lower()\n",
    "\n",
    "def slutter(word):\n",
    "    output = ''\n",
    "    if len(word) > 2:        \n",
    "        output = word[0:2] + '... ' + word[0:2] +'... '+ word +'?' \n",
    "        return output\n",
    "    else:\n",
    "        return \"Word should contain at least 2 characters\"\n",
    "\n",
    "print('Output is::',slutter(word))"
   ]
  },
  {
   "cell_type": "markdown",
   "metadata": {},
   "source": [
    "### Question 2.Create a function that takes an angle in radians and returns the corresponding angle in degrees rounded to one decimal place.\n",
    "Examples\n",
    "radians_to_degrees(1) ➞ 57.3\n",
    "\n",
    "radians_to_degrees(20) ➞ 1145.9\n",
    "\n",
    "radians_to_degrees(50) ➞ 2864.8\n"
   ]
  },
  {
   "cell_type": "code",
   "execution_count": 3,
   "metadata": {},
   "outputs": [
    {
     "name": "stdout",
     "output_type": "stream",
     "text": [
      "Enter angle in radians:20\n",
      "20 radians is equal to 1145.9 degrees\n"
     ]
    }
   ],
   "source": [
    "import math\n",
    "\n",
    "def rad_to_degree(angle):\n",
    "    return round((180 * angle )/ math.pi,1)\n",
    "\n",
    "angle = int(input('Enter angle in radians:'))\n",
    "print(f'{angle} radians is equal to {rad_to_degree(angle)} degrees')"
   ]
  },
  {
   "cell_type": "markdown",
   "metadata": {},
   "source": [
    "### Question 3. In this challenge, establish if a given integer num is a Curzon number. If 1 plus 2 elevated to num is exactly divisible by 1 plus 2 multiplied by num, then num is a Curzon number.\n",
    "Given a non-negative integer num, implement a function that returns True if num is a Curzon number, or False otherwise.\n",
    "Examples\n",
    "is_curzon(5) ➞ True\n",
    "#### 2 ** 5 + 1 = 33\n",
    "#### 2 * 5 + 1 = 11\n",
    "#### 33 is a multiple of 11\n",
    "\n",
    "is_curzon(10) ➞ False\n",
    "#### 2 ** 10 + 1 = 1025\n",
    "#### 2 * 10 + 1 = 21\n",
    "#### 1025 is not a multiple of 21\n",
    "\n",
    "is_curzon(14) ➞ True\n",
    "#### 2 ** 14 + 1 = 16385\n",
    "#### 2 * 14 + 1 = 29\n",
    "#### 16385 is a multiple of 29\n"
   ]
  },
  {
   "cell_type": "code",
   "execution_count": 4,
   "metadata": {},
   "outputs": [
    {
     "name": "stdout",
     "output_type": "stream",
     "text": [
      "Enter number::21\n",
      "21 is a curzon number\n"
     ]
    }
   ],
   "source": [
    "num = int(input('Enter number::'))\n",
    "def is_curzon(num):\n",
    "    if (1 + 2**num ) % (1 + 2 * num) == 0:\n",
    "        return True\n",
    "    else:\n",
    "        return False\n",
    "\n",
    "result = is_curzon(num)\n",
    "if result == True:\n",
    "    print(f'{num} is a curzon number')    \n",
    "else:\n",
    "    print(f'{num} is not a curzon number')"
   ]
  },
  {
   "cell_type": "markdown",
   "metadata": {},
   "source": [
    "### Question 4.Given the side length x find the area of a hexagon.\n",
    "Examples\n",
    "area_of_hexagon(1) ➞ 2.6\n",
    "\n",
    "area_of_hexagon(2) ➞ 10.4\n",
    "\n",
    "area_of_hexagon(3) ➞ 23.4\n"
   ]
  },
  {
   "cell_type": "code",
   "execution_count": 5,
   "metadata": {},
   "outputs": [
    {
     "name": "stdout",
     "output_type": "stream",
     "text": [
      "Enter length of side of hexagon::6\n",
      "Area of hexagon is :: 93.5\n"
     ]
    }
   ],
   "source": [
    "import math\n",
    "\n",
    "def area_of_hexagon(length):\n",
    "    return round((3 * math.sqrt(3) * length**2 )/2,1)\n",
    "\n",
    "length = int(input('Enter length of side of hexagon::'))\n",
    "print('Area of hexagon is ::',area_of_hexagon(length))"
   ]
  },
  {
   "cell_type": "markdown",
   "metadata": {},
   "source": [
    "### Question 5. Create a function that returns a base-2 (binary) representation of a base-10 (decimal) string number. To convert is simple: ((2) means base-2 and (10) means base-10) 010101001(2) = 1 + 8 + 32 + 128.\n",
    "Going from right to left, the value of the most right bit is 1, now from that every bit to the left will be x2 the value, value of an 8 bit binary numbers are (256, 128, 64, 32, 16, 8, 4, 2, 1).\n",
    "Examples\n",
    "binary(1) ➞ \"1\"\n",
    "#### 1*1 = 1\n",
    "\n",
    "binary(5) ➞ \"101\"\n",
    "#### 1*1 + 1*4 = 5\n",
    "\n",
    "binary(10) ➞ \"1010\"\n",
    "#### 1*2 + 1*8 = 10\n"
   ]
  },
  {
   "cell_type": "code",
   "execution_count": 6,
   "metadata": {},
   "outputs": [
    {
     "name": "stdout",
     "output_type": "stream",
     "text": [
      "Enter a decimal number::27\n",
      "Binary equivalent of 27 is 11011\n"
     ]
    }
   ],
   "source": [
    "num = int(input('Enter a decimal number::'))\n",
    "\n",
    "def binary(num):\n",
    "    remainder = ''\n",
    "\n",
    "    if num == 0 or num == 1:\n",
    "        remainder = num\n",
    " \n",
    "    else:\n",
    "        while num != 0:\n",
    "            mod = int(num % 2)\n",
    "            num = int(num / 2)\n",
    "            remainder += str(mod)\n",
    "\n",
    "        remainder = remainder[::-1]\n",
    "    return remainder\n",
    "\n",
    "print(f'Binary equivalent of {num} is {binary(num)}')"
   ]
  },
  {
   "cell_type": "code",
   "execution_count": null,
   "metadata": {},
   "outputs": [],
   "source": []
  }
 ],
 "metadata": {
  "kernelspec": {
   "display_name": "Python 3",
   "language": "python",
   "name": "python3"
  },
  "language_info": {
   "codemirror_mode": {
    "name": "ipython",
    "version": 3
   },
   "file_extension": ".py",
   "mimetype": "text/x-python",
   "name": "python",
   "nbconvert_exporter": "python",
   "pygments_lexer": "ipython3",
   "version": "3.7.4"
  }
 },
 "nbformat": 4,
 "nbformat_minor": 2
}
