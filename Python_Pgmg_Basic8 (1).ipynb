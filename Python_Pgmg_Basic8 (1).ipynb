{
 "cells": [
  {
   "cell_type": "markdown",
   "metadata": {},
   "source": [
    "### 1.Write a Python Program to Add Two Matrices?"
   ]
  },
  {
   "cell_type": "code",
   "execution_count": 1,
   "metadata": {},
   "outputs": [
    {
     "name": "stdout",
     "output_type": "stream",
     "text": [
      "Matrix addition is [[2, 3, 4], [6, 7, 8], [10, 11, 12]]\n"
     ]
    }
   ],
   "source": [
    "m1 = [[1,2,3],[4,5,6],[7,8,9]] #matrxi1\n",
    "m2 = [[1,1,1],[2,2,2],[3,3,3]] #matrix2\n",
    "\n",
    "result = [[0,0,0],[0,0,0],[0,0,0]]\n",
    "\n",
    "if len(m1) == len(m2):\n",
    "    for i in range(len(m1)):\n",
    "        for j in range(len(m1[0])):\n",
    "            result[i][j] = m1[i][j] + m2[i][j]\n",
    "    print(f'Matrix addition is {result}')\n",
    "\n",
    "else:\n",
    "    print('Size of matrices should be same for addition')"
   ]
  },
  {
   "cell_type": "markdown",
   "metadata": {},
   "source": [
    "### 2.Write a Python Program to Multiply Two Matrices?"
   ]
  },
  {
   "cell_type": "code",
   "execution_count": 2,
   "metadata": {},
   "outputs": [
    {
     "name": "stdout",
     "output_type": "stream",
     "text": [
      "Matrix multiplication is [[1, 2, 3], [8, 10, 12], [21, 24, 27]]\n"
     ]
    }
   ],
   "source": [
    "m1 = [[1,2,3],[4,5,6],[7,8,9]] #matrxi1\n",
    "m2 = [[1,1,1],[2,2,2],[3,3,3]] #matrix2\n",
    "\n",
    "result = [[0,0,0],[0,0,0],[0,0,0]]\n",
    "\n",
    "if len(m1) == len(m2):\n",
    "    for i in range(len(m1)):\n",
    "        for j in range(len(m1[0])):\n",
    "            result[i][j] = m1[i][j] * m2[i][j]\n",
    "    print(f'Matrix multiplication is {result}')\n",
    "\n",
    "else:\n",
    "    print('Size of matrices should be same for multiplication')"
   ]
  },
  {
   "cell_type": "markdown",
   "metadata": {},
   "source": [
    "### 3.Write a Python Program to Transpose a Matrix?"
   ]
  },
  {
   "cell_type": "code",
   "execution_count": 3,
   "metadata": {},
   "outputs": [
    {
     "name": "stdout",
     "output_type": "stream",
     "text": [
      "Transpose of matrix is [[1, 3, 5], [2, 4, 6]]\n"
     ]
    }
   ],
   "source": [
    "m = [[1,2],[3,4],[5,6]]\n",
    "\n",
    "#transpose of a matrix is rows as columns and columns as rows \n",
    "result = [[m[j][i] for j in range(len(m))] for i in range(len(m[0]))]\n",
    "\n",
    "print('Transpose of matrix is',result)"
   ]
  },
  {
   "cell_type": "markdown",
   "metadata": {},
   "source": [
    "### 4.Write a Python Program to Sort Words in Alphabetic Order?"
   ]
  },
  {
   "cell_type": "code",
   "execution_count": 4,
   "metadata": {},
   "outputs": [
    {
     "name": "stdout",
     "output_type": "stream",
     "text": [
      "Words in Alphabetic Order are::  a beautifully blog build class crafted latest system technologies the to with world\n"
     ]
    }
   ],
   "source": [
    "sentence = 'beautifully crafted with the latest technologies to build a world class blog system'\n",
    "\n",
    "words = sentence.split() #splits at the space to get words\n",
    "\n",
    "words.sort() #sort words list\n",
    "\n",
    "new_sentence = ' '.join(words) #joins the words from sorted list\n",
    "\n",
    "print('Words in Alphabetic Order are:: ',new_sentence)"
   ]
  },
  {
   "cell_type": "markdown",
   "metadata": {},
   "source": [
    "### 5.Write a Python Program to Remove Punctuation From a String?"
   ]
  },
  {
   "cell_type": "code",
   "execution_count": 8,
   "metadata": {},
   "outputs": [
    {
     "data": {
      "text/plain": [
       "'Hello All   Hope you are good'"
      ]
     },
     "execution_count": 8,
     "metadata": {},
     "output_type": "execute_result"
    }
   ],
   "source": [
    "def remove_punctuation(string):\n",
    "    punctuations = '''!()-[]{};:'\"\\,<>./?@#$%^&*_~'''\n",
    "\n",
    "    for char in string:\n",
    "        if char in punctuations: #check for punctuation\n",
    "            string = string.replace(char,'') #replace with nothing at the punctuation\n",
    "    return string\n",
    "\n",
    "string = \"Hello All !!! ???@@ Hope##$ you#$%$ are^ good$%^&\"\n",
    "remove_punctuation(string)"
   ]
  },
  {
   "cell_type": "code",
   "execution_count": null,
   "metadata": {},
   "outputs": [],
   "source": []
  }
 ],
 "metadata": {
  "kernelspec": {
   "display_name": "Python 3",
   "language": "python",
   "name": "python3"
  },
  "language_info": {
   "codemirror_mode": {
    "name": "ipython",
    "version": 3
   },
   "file_extension": ".py",
   "mimetype": "text/x-python",
   "name": "python",
   "nbconvert_exporter": "python",
   "pygments_lexer": "ipython3",
   "version": "3.7.4"
  }
 },
 "nbformat": 4,
 "nbformat_minor": 2
}
