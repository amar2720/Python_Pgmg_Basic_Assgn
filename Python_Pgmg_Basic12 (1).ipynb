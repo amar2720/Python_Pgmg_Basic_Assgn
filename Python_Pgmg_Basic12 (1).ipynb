{
 "cells": [
  {
   "cell_type": "markdown",
   "metadata": {},
   "source": [
    "### 1.\tWrite a Python program to Extract Unique values dictionary values?"
   ]
  },
  {
   "cell_type": "code",
   "execution_count": 1,
   "metadata": {},
   "outputs": [
    {
     "name": "stdout",
     "output_type": "stream",
     "text": [
      "Original dictionary values are:: dict_values([123, 456, 789, 321, 456, 789, 654])\n",
      "Unique values of dictionary values are:: {321, 456, 654, 789, 123}\n"
     ]
    }
   ],
   "source": [
    "d = {'v1':123,'v2':456,'v3':789,'v4':321,'v5':456,'v6':789,'v9':654} #Dictionary\n",
    "\n",
    "print('Original dictionary values are::',d.values())\n",
    "\n",
    "s = set(d.values()) # set will always hold unique values\n",
    "\n",
    "print('Unique values of dictionary values are::',s)"
   ]
  },
  {
   "cell_type": "markdown",
   "metadata": {},
   "source": [
    "### 2.\tWrite a Python program to find the sum of all items in a dictionary?"
   ]
  },
  {
   "cell_type": "code",
   "execution_count": 2,
   "metadata": {},
   "outputs": [
    {
     "name": "stdout",
     "output_type": "stream",
     "text": [
      "The sum of all items in a dictionary is:: 3588\n"
     ]
    }
   ],
   "source": [
    "def sum_of_values(dict1):\n",
    "    s = 0\n",
    "    for item in dict1.values():\n",
    "        s += item\n",
    "    return s    \n",
    "\n",
    "d = {'v1':123,'v2':456,'v3':789,'v4':321,'v5':456,'v6':789,'v9':654}\n",
    "\n",
    "print('The sum of all items in a dictionary is::',sum_of_values(d))"
   ]
  },
  {
   "cell_type": "markdown",
   "metadata": {},
   "source": [
    "### 3.\tWrite a Python program to Merging two Dictionaries?"
   ]
  },
  {
   "cell_type": "code",
   "execution_count": 3,
   "metadata": {},
   "outputs": [
    {
     "name": "stdout",
     "output_type": "stream",
     "text": [
      "Dictionary after merging:: {'C': 1, 'Javascript': 7, 'Python': 1, 'C++': 5, 'Java': 3, 'v1': 123, 'v2': 456, 'v3': 789, 'v4': 321, 'v5': 456, 'v6': 789, 'v9': 654}\n"
     ]
    }
   ],
   "source": [
    "d = {'v1':123,'v2':456,'v3':789,'v4':321,'v5':456,'v6':789,'v9':654}\n",
    "\n",
    "d1 = {'C':1, 'Javascript': 7, 'Python':1, 'C++':5, 'Java':3}\n",
    "\n",
    "d1.update(d)\n",
    "\n",
    "print('Dictionary after merging::',d1)"
   ]
  },
  {
   "cell_type": "markdown",
   "metadata": {},
   "source": [
    "### 4.\tWrite a Python program to convert key-values list to flat dictionary?"
   ]
  },
  {
   "cell_type": "code",
   "execution_count": 4,
   "metadata": {},
   "outputs": [
    {
     "name": "stdout",
     "output_type": "stream",
     "text": [
      "Flattened dictionary is:: {1: 'A', 2: 'B', 3: 'C', 4: 'D', 5: 'E'}\n"
     ]
    }
   ],
   "source": [
    "numbers = [1,2,3,4,5] #list of keys\n",
    "\n",
    "letters = ['A','B','C','D','E'] #list of values\n",
    "\n",
    "my_dict = dict(zip(numbers,letters))\n",
    "\n",
    "print('Flattened dictionary is::',my_dict) #flat dictionary"
   ]
  },
  {
   "cell_type": "markdown",
   "metadata": {},
   "source": [
    "### 5.\tWrite a Python program to insertion at the beginning in OrderedDict?"
   ]
  },
  {
   "cell_type": "code",
   "execution_count": 5,
   "metadata": {},
   "outputs": [
    {
     "name": "stdout",
     "output_type": "stream",
     "text": [
      "Original dictionary is:: OrderedDict([(1, 'a'), (2, 'b')])\n",
      "Updated dictionary is:: [(3, 'c'), (1, 'a'), (2, 'b')]\n"
     ]
    }
   ],
   "source": [
    "from collections import OrderedDict\n",
    "\n",
    "d = OrderedDict() #create ordered dict\n",
    "for i,j in [(1,'a'),(2,'b')]:\n",
    "     d[i]=j # associate keys with values\n",
    "        \n",
    "print('Original dictionary is::',d)\n",
    "\n",
    "d = list(OrderedDict([(3,'c')]).items())+ list(d.items())\n",
    "\n",
    "print('Updated dictionary is::',d)"
   ]
  },
  {
   "cell_type": "markdown",
   "metadata": {},
   "source": [
    "### 6.\tWrite a Python program to check order of character in string using OrderedDict()?"
   ]
  },
  {
   "cell_type": "code",
   "execution_count": 6,
   "metadata": {},
   "outputs": [
    {
     "name": "stdout",
     "output_type": "stream",
     "text": [
      "Order is matched\n"
     ]
    }
   ],
   "source": [
    "from collections import OrderedDict\n",
    "\n",
    "def checkOrder(string, pattern):\n",
    "    # create empty OrderedDict \n",
    "    # output will be like {'a': None,'b': None, 'c': None} \n",
    "    dict1 = OrderedDict.fromkeys(string)\n",
    "\n",
    "    # traverse generated OrderedDict parallel with pattern string to check if order of characters are same or not \n",
    "    ptrlen = 0\n",
    "    for key,value in dict1.items(): \n",
    "        if (key == pattern[ptrlen]): \n",
    "            ptrlen = ptrlen + 1\n",
    "\n",
    "        # check if we have traverse complete \n",
    "        # pattern string \n",
    "        if (ptrlen == (len(pattern))): \n",
    "            return 'true'\n",
    "\n",
    "    # if we come out from for loop that means \n",
    "    # order was mismatched \n",
    "    return 'false'\n",
    "\n",
    "string = 'Wikipedia is a free online encyclopedia.'\n",
    "pattern = 'Wkp'\n",
    "result = checkOrder(string,pattern)\n",
    "if result == 'true':\n",
    "    print('Order is matched')\n",
    "elif result == 'false':\n",
    "    print('Order is mismatched')"
   ]
  },
  {
   "cell_type": "markdown",
   "metadata": {},
   "source": [
    "### 7.\tWrite a Python program to sort Python Dictionaries by Key or Value?"
   ]
  },
  {
   "cell_type": "code",
   "execution_count": 7,
   "metadata": {},
   "outputs": [
    {
     "name": "stdout",
     "output_type": "stream",
     "text": [
      "Original dictionary list {2: 'two', 8: 'eight', 1: 'one', 5: 'five', 6: 'six', 0: 'zero'}\n",
      "Dictionary after sorting:: {0: 'zero', 1: 'one', 2: 'two', 5: 'five', 6: 'six', 8: 'eight'}\n"
     ]
    }
   ],
   "source": [
    "dict2 = {2:'two',8:'eight',1:'one',5:'five',6:'six',0:'zero'} #original dictionary\n",
    "print('Original dictionary list',dict2)\n",
    "\n",
    "dict2 = sorted(dict2.items()) #sort dict item in assending order\n",
    "dict2 = dict(dict2)\n",
    "\n",
    "print('Dictionary after sorting::',dict2)"
   ]
  },
  {
   "cell_type": "code",
   "execution_count": null,
   "metadata": {},
   "outputs": [],
   "source": []
  }
 ],
 "metadata": {
  "kernelspec": {
   "display_name": "Python 3",
   "language": "python",
   "name": "python3"
  },
  "language_info": {
   "codemirror_mode": {
    "name": "ipython",
    "version": 3
   },
   "file_extension": ".py",
   "mimetype": "text/x-python",
   "name": "python",
   "nbconvert_exporter": "python",
   "pygments_lexer": "ipython3",
   "version": "3.7.4"
  }
 },
 "nbformat": 4,
 "nbformat_minor": 2
}
