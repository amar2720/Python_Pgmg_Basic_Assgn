{
 "cells": [
  {
   "cell_type": "markdown",
   "metadata": {},
   "source": [
    "### 1.Write a Python Program to Check if a Number is Positive, Negative or Zero?"
   ]
  },
  {
   "cell_type": "code",
   "execution_count": 1,
   "metadata": {},
   "outputs": [
    {
     "name": "stdout",
     "output_type": "stream",
     "text": [
      "Enter a number:27\n",
      "27.0 is positive number\n"
     ]
    }
   ],
   "source": [
    "a=float(input(\"Enter a number:\"))\n",
    "if a < 0:\n",
    "    print (a,\"is a negative number\")\n",
    "if a > 0:\n",
    "    print(a,\"is positive number\")\n",
    "if a==0:\n",
    "    print(a,\"is zero\")"
   ]
  },
  {
   "cell_type": "markdown",
   "metadata": {},
   "source": [
    "### 2.Write a Python Program to Check if a Number is Odd or Even?"
   ]
  },
  {
   "cell_type": "code",
   "execution_count": 2,
   "metadata": {},
   "outputs": [
    {
     "name": "stdout",
     "output_type": "stream",
     "text": [
      "Enter an integer greater than zero:20\n",
      "20 is an Even number\n"
     ]
    }
   ],
   "source": [
    "a=int(input(\"Enter an integer greater than zero:\"))\n",
    "if a > 0:\n",
    "    if a%2 == 0:\n",
    "        print(a,\"is an Even number\")\n",
    "    else:\n",
    "        print(a,\"is an Odd number\")\n",
    "else:\n",
    "    print(\"Enter a number greater than zero\")"
   ]
  },
  {
   "cell_type": "markdown",
   "metadata": {},
   "source": [
    "### 3.Write a Python Program to Check Leap Year?"
   ]
  },
  {
   "cell_type": "code",
   "execution_count": 3,
   "metadata": {},
   "outputs": [
    {
     "name": "stdout",
     "output_type": "stream",
     "text": [
      "Enter the year in YYYY format:2012\n",
      "The year 2012 is a leap year\n"
     ]
    }
   ],
   "source": [
    "y=int(input(\"Enter the year in YYYY format:\"))\n",
    "if (y%4==0 and (y%400==0 or y%100!=0)):\n",
    "    print(\"The year\", y, \"is a leap year\")\n",
    "else:\n",
    "   print(\"The year\", y, \"is a non-leap year\")"
   ]
  },
  {
   "cell_type": "markdown",
   "metadata": {},
   "source": [
    "### 4.Write a Python Program to Check Prime Number?"
   ]
  },
  {
   "cell_type": "code",
   "execution_count": 4,
   "metadata": {},
   "outputs": [
    {
     "name": "stdout",
     "output_type": "stream",
     "text": [
      "Enter an integer greater than one:20\n",
      "20 is not prime\n"
     ]
    }
   ],
   "source": [
    "a=int(input(\"Enter an integer greater than one:\"))\n",
    "if a > 1:\n",
    "    if (a == 2 or a==3):\n",
    "        print (a, \" is a prime\")\n",
    "    if (a > 3):\n",
    "        for i in range(2,a):\n",
    "            if (a%i==0):\n",
    "                print (a, \"is not prime\")\n",
    "                break\n",
    "        else:\n",
    "            print (a, \"is a prime\")\n",
    "else:\n",
    "    print(\"Enter a value greater than one\")"
   ]
  },
  {
   "cell_type": "markdown",
   "metadata": {},
   "source": [
    "### 5.Write a Python Program to Print all Prime Numbers in an Interval of 1-10000?"
   ]
  },
  {
   "cell_type": "code",
   "execution_count": 5,
   "metadata": {},
   "outputs": [
    {
     "name": "stdout",
     "output_type": "stream",
     "text": [
      "Enter the number upto which the prime numbers are to be generated = 25\n",
      "\n",
      "\n",
      "list of primes between 1 and 25 is \n",
      "\n",
      "[2, 3, 5, 7, 11, 13, 17, 19, 23]\n",
      "\n",
      "\n",
      "Total number of primes between 1 and 25 is 9\n"
     ]
    }
   ],
   "source": [
    "a=int(input(\"Enter the number upto which the prime numbers are to be generated = \"))\n",
    "l=[] #initiating a list\n",
    "count = 0\n",
    "\n",
    "#Using a list to store all the value between 2 and input value a        \n",
    "for i in range(2,a+1):\n",
    "    l.append(i)\n",
    "    \n",
    "\n",
    "\n",
    "if a <= 1:\n",
    "    print(\"Enter a value greater than one\")\n",
    "    \n",
    "      \n",
    "if a > 1:\n",
    "    for i in range(2,a+1):\n",
    "        for j in range(2,i):\n",
    "            if (i%j==0):\n",
    "                l.remove(i) #Removing those elements which are not prime from the list l\n",
    "                break\n",
    "    print(\"\\n\")\n",
    "    print (\"list of primes between 1 and\",a, \"is\", \"\\n\")\n",
    "    print(l)\n",
    "    print(\"\\n\")\n",
    "    print(\"Total number of primes between 1 and\",a,\"is\", len(l))"
   ]
  },
  {
   "cell_type": "code",
   "execution_count": null,
   "metadata": {},
   "outputs": [],
   "source": []
  }
 ],
 "metadata": {
  "kernelspec": {
   "display_name": "Python 3",
   "language": "python",
   "name": "python3"
  },
  "language_info": {
   "codemirror_mode": {
    "name": "ipython",
    "version": 3
   },
   "file_extension": ".py",
   "mimetype": "text/x-python",
   "name": "python",
   "nbconvert_exporter": "python",
   "pygments_lexer": "ipython3",
   "version": "3.7.4"
  }
 },
 "nbformat": 4,
 "nbformat_minor": 2
}
