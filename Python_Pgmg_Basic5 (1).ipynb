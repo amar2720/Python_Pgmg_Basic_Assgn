{
 "cells": [
  {
   "cell_type": "markdown",
   "metadata": {},
   "source": [
    "### 1.Write a Python Program to Find LCM?"
   ]
  },
  {
   "cell_type": "code",
   "execution_count": 2,
   "metadata": {},
   "outputs": [
    {
     "name": "stdout",
     "output_type": "stream",
     "text": [
      "Enter two positive non zero integers: 20 6\n",
      "Lcm of 20 and 6 is 60\n"
     ]
    }
   ],
   "source": [
    "a,b=input(\"Enter two positive non zero integers: \").split()\n",
    "a,b=int(a),int(b)\n",
    "temp=max(a,b)\n",
    "\n",
    "while (True):\n",
    "    if (temp%a==0) and (temp%b==0):\n",
    "        print(\"Lcm of {} and {} is {}\".format(a,b,temp))\n",
    "        break\n",
    "    temp = temp+1"
   ]
  },
  {
   "cell_type": "markdown",
   "metadata": {},
   "source": [
    "### 2.Write a Python Program to Find HCF?"
   ]
  },
  {
   "cell_type": "code",
   "execution_count": 3,
   "metadata": {},
   "outputs": [
    {
     "name": "stdout",
     "output_type": "stream",
     "text": [
      "Enter two positive non zero integers:20 6\n",
      "HCF =  2\n"
     ]
    }
   ],
   "source": [
    "a,b=input(\"Enter two positive non zero integers:\").split()\n",
    "a,b=int(a),int(b)\n",
    "if ((a<=1) or (b<=1)):\n",
    "    print(\"Enter two positive integers\"\"\\n\")\n",
    "\n",
    "i=2\n",
    "while ((a>=i) and (b>=i)):\n",
    "        if ((a%i==0) and (b%i==0)):\n",
    "            hcf=i\n",
    "#            print(\"hcf =\",hcf)\n",
    "                       \n",
    "        i=i+1\n",
    "\n",
    "print(\"HCF = \", hcf)"
   ]
  },
  {
   "cell_type": "markdown",
   "metadata": {},
   "source": [
    "### 3.Write a Python Program to Convert Decimal to Binary, Octal and Hexadecimal?"
   ]
  },
  {
   "cell_type": "code",
   "execution_count": 4,
   "metadata": {},
   "outputs": [
    {
     "name": "stdout",
     "output_type": "stream",
     "text": [
      "Enter the Integer value = 20\n",
      "Binary value of 20 = 0b10100\n",
      "Octal value of 20 = 0o24\n",
      "Hexadecimal value of 20 = 0x14\n"
     ]
    }
   ],
   "source": [
    "a=int(input(\"Enter the Integer value = \"))\n",
    "print(\"Binary value of\",a,\"=\",bin(a))\n",
    "print(\"Octal value of\",a,\"=\",oct(a))\n",
    "print(\"Hexadecimal value of\",a,\"=\",hex(a))"
   ]
  },
  {
   "cell_type": "markdown",
   "metadata": {},
   "source": [
    "### 4.Write a Python Program To Find ASCII value of a character?"
   ]
  },
  {
   "cell_type": "code",
   "execution_count": 6,
   "metadata": {},
   "outputs": [
    {
     "name": "stdout",
     "output_type": "stream",
     "text": [
      "Enter a character = J\n",
      "ASCII value of J is 74\n"
     ]
    }
   ],
   "source": [
    "a=input(\"Enter a character = \")\n",
    "print(\"ASCII value of {} is {}\". format(a,ord(a)))"
   ]
  },
  {
   "cell_type": "markdown",
   "metadata": {},
   "source": [
    "### 5.Write a Python Program to Make a Simple Calculator with 4 basic mathematical operations?"
   ]
  },
  {
   "cell_type": "code",
   "execution_count": 7,
   "metadata": {},
   "outputs": [
    {
     "name": "stdout",
     "output_type": "stream",
     "text": [
      "Enter two positive non zero integers: 20 6\n",
      "a + b = 26\n",
      "a - b = 14\n",
      "a x b = 120\n",
      "a / b = 3.3333333333333335\n"
     ]
    }
   ],
   "source": [
    "a,b=input(\"Enter two positive non zero integers: \").split()\n",
    "a,b=int(a),int(b)\n",
    "print(\"a + b =\", a+b)\n",
    "print(\"a - b =\", a-b)\n",
    "print(\"a x b =\", a*b)\n",
    "print(\"a / b =\", a/b)"
   ]
  },
  {
   "cell_type": "code",
   "execution_count": null,
   "metadata": {},
   "outputs": [],
   "source": []
  }
 ],
 "metadata": {
  "kernelspec": {
   "display_name": "Python 3",
   "language": "python",
   "name": "python3"
  },
  "language_info": {
   "codemirror_mode": {
    "name": "ipython",
    "version": 3
   },
   "file_extension": ".py",
   "mimetype": "text/x-python",
   "name": "python",
   "nbconvert_exporter": "python",
   "pygments_lexer": "ipython3",
   "version": "3.7.4"
  }
 },
 "nbformat": 4,
 "nbformat_minor": 2
}
