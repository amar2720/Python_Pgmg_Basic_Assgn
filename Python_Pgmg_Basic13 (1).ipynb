{
 "cells": [
  {
   "cell_type": "markdown",
   "metadata": {},
   "source": [
    "### Question 1:\n",
    "\n",
    "### Write a program that calculates and prints the value according to the given formula:\n",
    "\n",
    "Q = Square root of [(2 * C * D)/H]\n",
    "\n",
    "Following are the fixed values of C and H:\n",
    "\n",
    "C is 50. H is 30.\n",
    "\n",
    "D is the variable whose values should be input to your program in a comma-separated sequence.\n",
    "\n",
    "Example\n",
    "\n",
    "Let us assume the following comma separated input sequence is given to the program:\n",
    "\n",
    "100,150,180\n",
    "\n",
    "The output of the program should be:\n",
    "\n",
    "18,22,24\n"
   ]
  },
  {
   "cell_type": "code",
   "execution_count": 2,
   "metadata": {},
   "outputs": [
    {
     "name": "stdout",
     "output_type": "stream",
     "text": [
      "Enter comma separated values: 100,150,180\n",
      "[100, 150, 180]\n",
      "Output is::[18, 22, 24]\n"
     ]
    }
   ],
   "source": [
    "import math\n",
    "C, H = 50, 30\n",
    "\n",
    "D = list(map(int, input(\"Enter comma separated values: \").split(\",\")))\n",
    "print(D)\n",
    "\n",
    "output = []\n",
    "\n",
    "for i in D:\n",
    "    sr = round(math.sqrt((2 * C * i) / H))\n",
    "    output.append(sr)\n",
    "    \n",
    "print(f'Output is::{output}')"
   ]
  },
  {
   "cell_type": "markdown",
   "metadata": {},
   "source": [
    "### Question 2:\n",
    "### Write a program which takes 2 digits, X,Y as input and generates a 2-dimensional array. The element value in the i-th row and j-th column of the array should be i*j.\n",
    "\n",
    "Note: i=0,1.., X-1; j=0,1,¡¬Y-1.\n",
    "\n",
    "Example\n",
    "\n",
    "Suppose the following inputs are given to the program:\n",
    "\n",
    "3,5\n",
    "\n",
    "Then, the output of the program should be:\n",
    "\n",
    "[[0, 0, 0, 0, 0], [0, 1, 2, 3, 4], [0, 2, 4, 6, 8]] \n",
    "\n"
   ]
  },
  {
   "cell_type": "code",
   "execution_count": 3,
   "metadata": {},
   "outputs": [
    {
     "name": "stdout",
     "output_type": "stream",
     "text": [
      "Enter number of rows, number of columns(separated by comma): 3,5\n",
      "Output is :: [[0, 0, 0, 0, 0], [0, 1, 2, 3, 4], [0, 2, 4, 6, 8]]\n"
     ]
    }
   ],
   "source": [
    "X,Y = list(map(int, input(\"Enter number of rows, number of columns(separated by comma): \").split(\",\")))\n",
    "l = []\n",
    "for i in range(X):\n",
    "    col = []\n",
    "    for j in range(Y):\n",
    "        col.append(i * j)\n",
    "    l.append(col)    \n",
    "print('Output is ::',l)"
   ]
  },
  {
   "cell_type": "markdown",
   "metadata": {},
   "source": [
    "### Question 3:\n",
    "### Write a program that accepts a comma separated sequence of words as input and prints the words in a comma-separated sequence after sorting them alphabetically.\n",
    "\n",
    "Suppose the following input is supplied to the program:\n",
    "\n",
    "without,hello,bag,world\n",
    "\n",
    "Then, the output should be:\n",
    "\n",
    "bag,hello,without,world\n",
    "\n"
   ]
  },
  {
   "cell_type": "code",
   "execution_count": 4,
   "metadata": {},
   "outputs": [
    {
     "name": "stdout",
     "output_type": "stream",
     "text": [
      "Enter sequence of words(separated by comma): without,hello,bag,world\n",
      "Output is:: bag,hello,without,world,\n"
     ]
    }
   ],
   "source": [
    "words = input(\"Enter sequence of words(separated by comma): \").split(\",\")\n",
    "\n",
    "words = sorted(words)\n",
    "string = ''\n",
    "for word in words:\n",
    "    word = word.replace(\"'\",\"\")\n",
    "    string += word + ','\n",
    "\n",
    "print('Output is::',string)"
   ]
  },
  {
   "cell_type": "markdown",
   "metadata": {},
   "source": [
    "### Question 4:\n",
    "### Write a program that accepts a sequence of whitespace separated words as input and prints the words after removing all duplicate words and sorting them alphanumerically.\n",
    "\n",
    "Suppose the following input is supplied to the program:\n",
    "\n",
    "hello world and practice makes perfect and hello world again\n",
    "\n",
    "Then, the output should be:\n",
    "\n",
    "again and hello makes perfect practice world\n"
   ]
  },
  {
   "cell_type": "code",
   "execution_count": 5,
   "metadata": {},
   "outputs": [
    {
     "name": "stdout",
     "output_type": "stream",
     "text": [
      "Enter sequence of words (separated by space): hello world and practice makes perfect and hello world again\n",
      "Output is:: again and hello makes perfect practice world \n"
     ]
    }
   ],
   "source": [
    "words = input(\"Enter sequence of words (separated by space): \").split(\" \")\n",
    "\n",
    "words = sorted(words)\n",
    "new =[]\n",
    "[new.append(word) for word in words if word not in new]\n",
    "\n",
    "string = ''\n",
    "for word in new:\n",
    "    word = word.replace(\"'\",\"\")\n",
    "    string += word + ' '\n",
    "\n",
    "print('Output is::',string)"
   ]
  },
  {
   "cell_type": "markdown",
   "metadata": {},
   "source": [
    "### Question 5:\n",
    "### Write a program that accepts a sentence and calculate the number of letters and digits.\n",
    "\n",
    "Suppose the following input is supplied to the program:\n",
    "\n",
    "hello world! 123\n",
    "\n",
    "Then, the output should be:\n",
    "\n",
    "LETTERS 10\n",
    "\n",
    "DIGITS 3\n"
   ]
  },
  {
   "cell_type": "code",
   "execution_count": 6,
   "metadata": {},
   "outputs": [
    {
     "name": "stdout",
     "output_type": "stream",
     "text": [
      "Enter a senetence::hello world! 123\n",
      "Output is: \n",
      "\n",
      "LETTERS 10\n",
      "\n",
      "DIGITS 3\n"
     ]
    }
   ],
   "source": [
    "sentence = input('Enter a senetence::')\n",
    "letter_count, digit_count = 0,0\n",
    "for word in sentence:\n",
    "    for i in word:\n",
    "        if i.isalpha():\n",
    "            letter_count += 1\n",
    "        elif i.isdigit():\n",
    "            digit_count += 1\n",
    "print(f'Output is: \\n\\nLETTERS {letter_count}\\n\\nDIGITS {digit_count}')"
   ]
  },
  {
   "cell_type": "markdown",
   "metadata": {},
   "source": [
    "### Question 6:\n",
    "### A website requires the users to input username and password to register. Write a program to check the validity of password input by users.\n",
    "\n",
    "Following are the criteria for checking the password:\n",
    "\n",
    "1. At least 1 letter between [a-z]\n",
    "\n",
    "2. At least 1 number between [0-9]\n",
    "\n",
    "1. At least 1 letter between [A-Z]\n",
    "\n",
    "3. At least 1 character from [$#@]\n",
    "\n",
    "4. Minimum length of transaction password: 6\n",
    "\n",
    "5. Maximum length of transaction password: 12\n",
    "\n",
    "Your program should accept a sequence of comma separated passwords and will check them according to the above criteria. Passwords that match the criteria are to be printed, each separated by a comma.\n",
    "\n",
    "Example\n",
    "\n",
    "If the following passwords are given as input to the program:\n",
    "\n",
    "ABd1234@1,a F1#,2w3E*,2We3345\n",
    "\n",
    "Then, the output of the program should be:\n",
    "\n",
    "ABd1234@1\n"
   ]
  },
  {
   "cell_type": "code",
   "execution_count": 7,
   "metadata": {},
   "outputs": [
    {
     "name": "stdout",
     "output_type": "stream",
     "text": [
      "Enter sequence of passwords(separated by comma): ABd1234@1,a F1#,2w3E*,2We3345\n",
      "Valid passwords is/are: ['ABd1234@1']\n"
     ]
    }
   ],
   "source": [
    "import re\n",
    "passwords = input(\"Enter sequence of passwords(separated by comma): \").split(\",\")\n",
    "flag = 0\n",
    "valid_passwords = []\n",
    "\n",
    "for i in range(len(passwords)):\n",
    "    if len(passwords[i]) >= 6 and len(passwords[i])<= 12:\n",
    "        if re.search(\"[a-z]\", passwords[i]) and re.search(\"[A-Z]\", passwords[i]) and re.search(\"[0-9]\", passwords[i]) and re.search(\"[_@$#]\", passwords[i]): \n",
    "            valid_passwords.append(passwords[i])\n",
    "\n",
    "print('Valid passwords is/are:',valid_passwords)"
   ]
  },
  {
   "cell_type": "code",
   "execution_count": null,
   "metadata": {},
   "outputs": [],
   "source": []
  }
 ],
 "metadata": {
  "kernelspec": {
   "display_name": "Python 3",
   "language": "python",
   "name": "python3"
  },
  "language_info": {
   "codemirror_mode": {
    "name": "ipython",
    "version": 3
   },
   "file_extension": ".py",
   "mimetype": "text/x-python",
   "name": "python",
   "nbconvert_exporter": "python",
   "pygments_lexer": "ipython3",
   "version": "3.7.4"
  }
 },
 "nbformat": 4,
 "nbformat_minor": 2
}
