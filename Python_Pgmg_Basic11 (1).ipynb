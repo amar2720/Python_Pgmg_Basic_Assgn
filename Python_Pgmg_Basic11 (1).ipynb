{
 "cells": [
  {
   "cell_type": "markdown",
   "metadata": {},
   "source": [
    "### 1.\tWrite a Python program to find words which are greater than given length k?"
   ]
  },
  {
   "cell_type": "code",
   "execution_count": 3,
   "metadata": {},
   "outputs": [
    {
     "name": "stdout",
     "output_type": "stream",
     "text": [
      "Enter length::3\n",
      "Enter number of words you would like to enter ::3\n",
      "Enter a word::are\n",
      "Enter a word::byeeeee\n",
      "Enter a word::you\n",
      "['byeeeee'] are the words with length greater than 3\n"
     ]
    }
   ],
   "source": [
    "k = int(input('Enter length::'))\n",
    "\n",
    "n = int(input('Enter number of words you would like to enter ::'))\n",
    "\n",
    "words = []\n",
    "\n",
    "while n > 0:\n",
    "    words.append(input('Enter a word::'))\n",
    "    n -= 1\n",
    "\n",
    "new_words = [] \n",
    "\n",
    "for word in words:\n",
    "    if len(word) > k:\n",
    "        new_words.append(word)\n",
    "        \n",
    "print(f'{new_words} are the words with length greater than {k}')"
   ]
  },
  {
   "cell_type": "markdown",
   "metadata": {},
   "source": [
    "### 2.\tWrite a Python program for removing i-th character from a string?"
   ]
  },
  {
   "cell_type": "code",
   "execution_count": 4,
   "metadata": {},
   "outputs": [
    {
     "name": "stdout",
     "output_type": "stream",
     "text": [
      "Enter string::Hello all\n",
      "Enter index of character you would like to remove::2\n",
      "String after removing index 2 character is:: Helo all\n"
     ]
    }
   ],
   "source": [
    "s = input('Enter string::')\n",
    "\n",
    "i = int(input('Enter index of character you would like to remove::'))\n",
    "\n",
    "tuple_of_partitioned_strings = s.partition(s[i])\n",
    "new_string = str(tuple_of_partitioned_strings[0] + tuple_of_partitioned_strings[2])\n",
    "\n",
    "print(f'String after removing index {i} character is::',new_string)"
   ]
  },
  {
   "cell_type": "markdown",
   "metadata": {},
   "source": [
    "### 3.\tWrite a Python program to split and join a string?"
   ]
  },
  {
   "cell_type": "code",
   "execution_count": 5,
   "metadata": {},
   "outputs": [
    {
     "data": {
      "text/plain": [
       "'W*r*i*t*e* *a* *P*y*t*h*o*n* *p*r*o*g*r*a*m* *t*o* *s*p*l*i*t* *a*n*d* *j*o*i*n* *a* *s*t*r*i*n*g'"
      ]
     },
     "execution_count": 5,
     "metadata": {},
     "output_type": "execute_result"
    }
   ],
   "source": [
    "s = 'Write a Python program to split and join a string'\n",
    "\n",
    "s.split()\n",
    "\n",
    "'*'.join(s)"
   ]
  },
  {
   "cell_type": "markdown",
   "metadata": {},
   "source": [
    "### 4.\tWrite a Python to check if a given string is binary string or not?"
   ]
  },
  {
   "cell_type": "code",
   "execution_count": 6,
   "metadata": {},
   "outputs": [
    {
     "name": "stdout",
     "output_type": "stream",
     "text": [
      "Enter string::are you busy?\n",
      "are you busy? is not binary\n"
     ]
    }
   ],
   "source": [
    "s = input('Enter string::')\n",
    "\n",
    "for char in s:\n",
    "    if char != '0' and char != '1':\n",
    "        print(f'{s} is not binary')\n",
    "        break\n",
    "else:\n",
    "    print(f'{s} is binary')"
   ]
  },
  {
   "cell_type": "markdown",
   "metadata": {},
   "source": [
    "### 5.\tWrite a Python program to find uncommon words from two Strings?"
   ]
  },
  {
   "cell_type": "code",
   "execution_count": 8,
   "metadata": {},
   "outputs": [
    {
     "name": "stdout",
     "output_type": "stream",
     "text": [
      "Enter string 1 ::hello all welcome\n",
      "Enter string 2 ::welcome all\n"
     ]
    },
    {
     "data": {
      "text/plain": [
       "{'hello'}"
      ]
     },
     "execution_count": 8,
     "metadata": {},
     "output_type": "execute_result"
    }
   ],
   "source": [
    "s1 = input('Enter string 1 ::')\n",
    "s2 = input('Enter string 2 ::')\n",
    "\n",
    "s1 = set(s1.split())\n",
    "s2 = set(s2.split())\n",
    "\n",
    "s1.symmetric_difference(s2)"
   ]
  },
  {
   "cell_type": "markdown",
   "metadata": {},
   "source": [
    "### 6.\tWrite a Python to find all duplicate characters in string?"
   ]
  },
  {
   "cell_type": "code",
   "execution_count": 9,
   "metadata": {},
   "outputs": [
    {
     "name": "stdout",
     "output_type": "stream",
     "text": [
      "Enter a sting::hello all all welcome\n",
      "Duplicate characters in string are:: {'o', 'l', 'a', ' ', 'e'}\n"
     ]
    }
   ],
   "source": [
    "s = input('Enter a sting::')\n",
    "char_list = set()\n",
    "for char in s:\n",
    "    if s.count(char) > 1:\n",
    "         char_list.add(char)\n",
    "        \n",
    "print('Duplicate characters in string are::',char_list)"
   ]
  },
  {
   "cell_type": "markdown",
   "metadata": {},
   "source": [
    "### 7.\tWrite a Python Program to check if a string contains any special character?"
   ]
  },
  {
   "cell_type": "code",
   "execution_count": 11,
   "metadata": {},
   "outputs": [
    {
     "name": "stdout",
     "output_type": "stream",
     "text": [
      "Enter a sting::Hello All!!\n",
      "String contains special character\n"
     ]
    }
   ],
   "source": [
    "symbols = {'`','~','!','@','#','$','%','^','&','*','(',')','_','-','+','=','{','[','}','}','|',':',';','\"','<',',','>','.','?','/'}\n",
    "s = input('Enter a sting::')\n",
    "flag = 0\n",
    "           \n",
    "for char in s:\n",
    "    if char in symbols:\n",
    "        flag = 1\n",
    "\n",
    "if flag == 1:\n",
    "    print('String contains special character')\n",
    "else:\n",
    "    print('String does not contain special character')"
   ]
  },
  {
   "cell_type": "code",
   "execution_count": null,
   "metadata": {},
   "outputs": [],
   "source": []
  }
 ],
 "metadata": {
  "kernelspec": {
   "display_name": "Python 3",
   "language": "python",
   "name": "python3"
  },
  "language_info": {
   "codemirror_mode": {
    "name": "ipython",
    "version": 3
   },
   "file_extension": ".py",
   "mimetype": "text/x-python",
   "name": "python",
   "nbconvert_exporter": "python",
   "pygments_lexer": "ipython3",
   "version": "3.7.4"
  }
 },
 "nbformat": 4,
 "nbformat_minor": 2
}
