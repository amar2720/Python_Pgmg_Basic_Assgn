{
 "cells": [
  {
   "cell_type": "markdown",
   "metadata": {},
   "source": [
    "### 1.Write a Python program to find sum of elements in list?"
   ]
  },
  {
   "cell_type": "code",
   "execution_count": 1,
   "metadata": {},
   "outputs": [
    {
     "name": "stdout",
     "output_type": "stream",
     "text": [
      "Enter number of elements in list::3\n",
      "Enter a number::1\n",
      "Enter a number::2\n",
      "Enter a number::3\n",
      "Sum of elements in [1, 2, 3] is 6\n"
     ]
    }
   ],
   "source": [
    "def sum1(numbers):\n",
    "    sum_elements = 0\n",
    "    for i in numbers:\n",
    "        sum_elements += i\n",
    "    return sum_elements\n",
    "\n",
    "#input list elements\n",
    "numbers = []\n",
    "\n",
    "n = int(input('Enter number of elements in list::'))\n",
    "\n",
    "while n > 0:\n",
    "    numbers.append(int(input('Enter a number::')))\n",
    "    n -= 1\n",
    "\n",
    "print(f'Sum of elements in {numbers} is {sum1(numbers)}')"
   ]
  },
  {
   "cell_type": "markdown",
   "metadata": {},
   "source": [
    "### 2.Write a Python program to  Multiply all numbers in the list?"
   ]
  },
  {
   "cell_type": "code",
   "execution_count": 2,
   "metadata": {},
   "outputs": [
    {
     "name": "stdout",
     "output_type": "stream",
     "text": [
      "Enter number of elements in list::3\n",
      "Enter a number::20\n",
      "Enter a number::6\n",
      "Enter a number::27\n",
      "Multiplication of elements in [20, 6, 27] is 3240\n"
     ]
    }
   ],
   "source": [
    "def multiply(numbers):\n",
    "    mul_elements = 1\n",
    "    for i in numbers:\n",
    "        mul_elements *= i\n",
    "    return mul_elements\n",
    "\n",
    "#input list elements\n",
    "numbers = []\n",
    "\n",
    "n = int(input('Enter number of elements in list::'))\n",
    "\n",
    "while n > 0:\n",
    "    numbers.append(int(input('Enter a number::')))\n",
    "    n -= 1\n",
    "\n",
    "print(f'Multiplication of elements in {numbers} is {multiply(numbers)}')"
   ]
  },
  {
   "cell_type": "markdown",
   "metadata": {},
   "source": [
    "### 3.Write a Python program to find smallest number in a list?"
   ]
  },
  {
   "cell_type": "code",
   "execution_count": 3,
   "metadata": {},
   "outputs": [
    {
     "name": "stdout",
     "output_type": "stream",
     "text": [
      "Enter number of elements in list::3\n",
      "Enter a number::3\n",
      "Enter a number::2\n",
      "Enter a number::1\n",
      "Smallest number of the list is  1\n"
     ]
    }
   ],
   "source": [
    "def find_smallest_num(numbers):\n",
    "    min1 = numbers[0]\n",
    "    \n",
    "    for i in range(1,len(numbers)):\n",
    "        if numbers[i] < min1:\n",
    "            min1 = numbers[i]\n",
    "    return min1\n",
    "\n",
    "#input list elements\n",
    "numbers = []\n",
    "\n",
    "n = int(input('Enter number of elements in list::'))\n",
    "\n",
    "while n > 0:\n",
    "    numbers.append(int(input('Enter a number::')))\n",
    "    n -= 1    \n",
    "\n",
    "print('Smallest number of the list is ',find_smallest_num(numbers))"
   ]
  },
  {
   "cell_type": "markdown",
   "metadata": {},
   "source": [
    "### 4.Write a Python program to find largest number in a list?"
   ]
  },
  {
   "cell_type": "code",
   "execution_count": 4,
   "metadata": {},
   "outputs": [
    {
     "name": "stdout",
     "output_type": "stream",
     "text": [
      "Enter number of elements in list::3\n",
      "Enter a number::27\n",
      "Enter a number::20\n",
      "Enter a number::6\n",
      "The largest number of the list is  27\n"
     ]
    }
   ],
   "source": [
    "def find_largest_num(numbers):\n",
    "    max1 = numbers[0]\n",
    "    \n",
    "    for i in range(1,len(numbers)):\n",
    "        if numbers[i] > max1:\n",
    "            max1 = numbers[i]\n",
    "    return max1\n",
    "\n",
    "#input list elements\n",
    "numbers = []\n",
    "\n",
    "n = int(input('Enter number of elements in list::'))\n",
    "\n",
    "while n > 0:\n",
    "    numbers.append(int(input('Enter a number::')))\n",
    "    n -= 1    \n",
    "print('The largest number of the list is ',find_largest_num(numbers))"
   ]
  },
  {
   "cell_type": "markdown",
   "metadata": {},
   "source": [
    "### 5.Write a Python program to find second largest number in a list?"
   ]
  },
  {
   "cell_type": "code",
   "execution_count": 5,
   "metadata": {},
   "outputs": [
    {
     "name": "stdout",
     "output_type": "stream",
     "text": [
      "Enter number of elements in list::3\n",
      "Enter a number::23\n",
      "Enter a number::22\n",
      "Enter a number::21\n",
      "Second largest number in a list is  22\n"
     ]
    }
   ],
   "source": [
    "#input list elements\n",
    "numbers = []\n",
    "\n",
    "n = int(input('Enter number of elements in list::'))\n",
    "\n",
    "while n > 0:\n",
    "    numbers.append(int(input('Enter a number::')))\n",
    "    n -= 1    \n",
    "\n",
    "numbers.sort()\n",
    "print('Second largest number in a list is ',numbers[len(numbers)-2])"
   ]
  },
  {
   "cell_type": "markdown",
   "metadata": {},
   "source": [
    "### 6.Write a Python program to find N largest elements from a list?"
   ]
  },
  {
   "cell_type": "code",
   "execution_count": 7,
   "metadata": {},
   "outputs": [
    {
     "name": "stdout",
     "output_type": "stream",
     "text": [
      "Enter number of elements in list::4\n",
      "Enter a number::1\n",
      "Enter a number::2\n",
      "Enter a number::3\n",
      "Enter a number::4\n",
      "Enter the Nth number::5\n",
      "5th largest number in a list is 4\n"
     ]
    }
   ],
   "source": [
    "#input list elements\n",
    "numbers = []\n",
    "\n",
    "n = int(input('Enter number of elements in list::'))\n",
    "\n",
    "while n > 0:\n",
    "    numbers.append(int(input('Enter a number::')))\n",
    "    n -= 1    \n",
    "\n",
    "numbers.sort()\n",
    "N = int(input('Enter the Nth number::'))\n",
    "\n",
    "print(f'{N}th largest number in a list is {numbers[len(numbers)-N]}')"
   ]
  },
  {
   "cell_type": "markdown",
   "metadata": {},
   "source": [
    "### 7.Write a Python program to print even numbers in a list?"
   ]
  },
  {
   "cell_type": "code",
   "execution_count": 8,
   "metadata": {},
   "outputs": [
    {
     "name": "stdout",
     "output_type": "stream",
     "text": [
      "Enter number of elements in list::4\n",
      "Enter a number::2\n",
      "Enter a number::5\n",
      "Enter a number::8\n",
      "Enter a number::10\n",
      "Even elements in a list are  [2, 8, 10]\n"
     ]
    }
   ],
   "source": [
    "def check_even(numbers):\n",
    "    return [i for i in numbers if i%2 == 0 ]\n",
    "    \n",
    "#input list elements\n",
    "numbers = []\n",
    "\n",
    "n = int(input('Enter number of elements in list::'))\n",
    "\n",
    "while n > 0:\n",
    "    numbers.append(int(input('Enter a number::')))\n",
    "    n -= 1    \n",
    "\n",
    "print('Even elements in a list are ',check_even(numbers))"
   ]
  },
  {
   "cell_type": "markdown",
   "metadata": {},
   "source": [
    "### 8.Write a Python program to print odd numbers in a List?"
   ]
  },
  {
   "cell_type": "code",
   "execution_count": 9,
   "metadata": {},
   "outputs": [
    {
     "name": "stdout",
     "output_type": "stream",
     "text": [
      "Enter number of elements in list::4\n",
      "Enter a number::1\n",
      "Enter a number::3\n",
      "Enter a number::4\n",
      "Enter a number::10\n",
      "Odd elements in a list are  [1, 3]\n"
     ]
    }
   ],
   "source": [
    "def check_odd(numbers):\n",
    "    return [i for i in numbers if i%2 != 0 ]\n",
    "    \n",
    "#input list elements\n",
    "numbers = []\n",
    "\n",
    "n = int(input('Enter number of elements in list::'))\n",
    "\n",
    "while n > 0:\n",
    "    numbers.append(int(input('Enter a number::')))\n",
    "    n -= 1    \n",
    "\n",
    "print('Odd elements in a list are ',check_odd(numbers))"
   ]
  },
  {
   "cell_type": "markdown",
   "metadata": {},
   "source": [
    "### 9.Write a Python program to Remove empty List from List?"
   ]
  },
  {
   "cell_type": "code",
   "execution_count": 10,
   "metadata": {},
   "outputs": [
    {
     "name": "stdout",
     "output_type": "stream",
     "text": [
      "List before removing empty list from list [1, 2, 3, [], ['a', 'b'], [], (4, 5, 6, 7)]\n",
      "List after removing empty list from list [1, 2, 3, ['a', 'b'], (4, 5, 6, 7)]\n"
     ]
    }
   ],
   "source": [
    "l = [1,2,3,[],['a','b'],[],(4,5,6,7)]\n",
    "print('List before removing empty list from list',l)\n",
    "for i in l:\n",
    "    if type(i) == list and len(i) == 0:\n",
    "        l.remove(i)\n",
    "\n",
    "print('List after removing empty list from list',l)"
   ]
  },
  {
   "cell_type": "markdown",
   "metadata": {},
   "source": [
    "### 10.Write a Python program to Cloning or Copying a list?"
   ]
  },
  {
   "cell_type": "code",
   "execution_count": 11,
   "metadata": {},
   "outputs": [
    {
     "name": "stdout",
     "output_type": "stream",
     "text": [
      "Original list is  [1, 2, 3, ['a', 'b'], (4, 5, 6, 7)]\n",
      "New list after copying is  [1, 2, 3, ['a', 'b'], (4, 5, 6, 7)]\n"
     ]
    }
   ],
   "source": [
    "l = [1, 2, 3, ['a', 'b'], (4, 5, 6, 7)]\n",
    "print('Original list is ', l)\n",
    "\n",
    "l1 = []\n",
    "for i in l:\n",
    "    l1.append(i)\n",
    "    \n",
    "print('New list after copying is ', l1)"
   ]
  },
  {
   "cell_type": "markdown",
   "metadata": {},
   "source": [
    "### 11.Write a Python program to Count occurrences of an element in a list?"
   ]
  },
  {
   "cell_type": "code",
   "execution_count": 12,
   "metadata": {},
   "outputs": [
    {
     "name": "stdout",
     "output_type": "stream",
     "text": [
      "Original list is  [1, 2, 3, ['a', 'b'], (4, 5, 6, 7), 1, 2, 1]\n",
      "Enter the element to find the occurences ::2\n",
      "2 has occured 2 times\n"
     ]
    }
   ],
   "source": [
    "l = [1, 2, 3, ['a', 'b'], (4, 5, 6, 7),1,2,1]\n",
    "print('Original list is ', l)\n",
    "\n",
    "e = int(input('Enter the element to find the occurences ::'))\n",
    "count = 0\n",
    "\n",
    "for i in l:\n",
    "    if e == i:\n",
    "        count += 1\n",
    "        \n",
    "print(f'{e} has occured {count} times')"
   ]
  },
  {
   "cell_type": "code",
   "execution_count": null,
   "metadata": {},
   "outputs": [],
   "source": []
  }
 ],
 "metadata": {
  "kernelspec": {
   "display_name": "Python 3",
   "language": "python",
   "name": "python3"
  },
  "language_info": {
   "codemirror_mode": {
    "name": "ipython",
    "version": 3
   },
   "file_extension": ".py",
   "mimetype": "text/x-python",
   "name": "python",
   "nbconvert_exporter": "python",
   "pygments_lexer": "ipython3",
   "version": "3.7.4"
  }
 },
 "nbformat": 4,
 "nbformat_minor": 2
}
