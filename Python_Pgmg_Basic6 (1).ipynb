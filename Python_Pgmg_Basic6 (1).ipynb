{
 "cells": [
  {
   "cell_type": "markdown",
   "metadata": {},
   "source": [
    "### 1.Write a Python Program to Display Fibonacci Sequence Using Recursion?"
   ]
  },
  {
   "cell_type": "code",
   "execution_count": 1,
   "metadata": {},
   "outputs": [
    {
     "name": "stdout",
     "output_type": "stream",
     "text": [
      "Enter for how many numbers would you like to generate fibonacci series : 10\n"
     ]
    },
    {
     "data": {
      "text/plain": [
       "[0, 1, 1, 2, 3, 5, 8, 13, 21, 34]"
      ]
     },
     "execution_count": 1,
     "metadata": {},
     "output_type": "execute_result"
    }
   ],
   "source": [
    "def fibo(n):\n",
    "    if(n<=1):\n",
    "        return n\n",
    "    else:\n",
    "        return(fibo(n-1)+fibo(n-2))\n",
    "n = int(input(\"Enter for how many numbers would you like to generate fibonacci series : \"))\n",
    "[fibo(i) for i in range(n)]"
   ]
  },
  {
   "cell_type": "markdown",
   "metadata": {},
   "source": [
    "### 2.\tWrite a Python Program to Find Factorial of Number Using Recursion?"
   ]
  },
  {
   "cell_type": "code",
   "execution_count": 2,
   "metadata": {},
   "outputs": [
    {
     "name": "stdout",
     "output_type": "stream",
     "text": [
      "Enter a numbers : 20\n"
     ]
    },
    {
     "data": {
      "text/plain": [
       "2432902008176640000"
      ]
     },
     "execution_count": 2,
     "metadata": {},
     "output_type": "execute_result"
    }
   ],
   "source": [
    "def facto(n):\n",
    "    if n==1 or n==0:\n",
    "        return 1\n",
    "    else:\n",
    "        return facto(n-1)*n\n",
    "n = int(input('Enter a numbers : '))\n",
    "facto(n)"
   ]
  },
  {
   "cell_type": "markdown",
   "metadata": {},
   "source": [
    "### 3.Write a Python Program to calculate your Body Mass Index?"
   ]
  },
  {
   "cell_type": "code",
   "execution_count": 5,
   "metadata": {},
   "outputs": [
    {
     "name": "stdout",
     "output_type": "stream",
     "text": [
      "Enter your height in meters : 1.67\n",
      "Enter your weight in kgs : 65\n",
      "Your BMI : 23.306680053067517\n"
     ]
    }
   ],
   "source": [
    "height = float(input(\"Enter your height in meters : \"))\n",
    "weight = float(input(\"Enter your weight in kgs : \"))\n",
    "bmi = weight/(height)**2\n",
    "print(\"Your BMI : {}\".format(bmi))"
   ]
  },
  {
   "cell_type": "markdown",
   "metadata": {},
   "source": [
    "### 4.Write a Python Program to calculate the natural logarithm of any number?"
   ]
  },
  {
   "cell_type": "code",
   "execution_count": 6,
   "metadata": {},
   "outputs": [
    {
     "name": "stdout",
     "output_type": "stream",
     "text": [
      "Enter number : 20\n",
      "Natural logarithm of 20 is 2.995732273553991\n"
     ]
    }
   ],
   "source": [
    "import math\n",
    "n = int(input('Enter number : '))\n",
    "n1 = math.log(n)\n",
    "print(\"Natural logarithm of {} is {}\".format(n,n1))"
   ]
  },
  {
   "cell_type": "markdown",
   "metadata": {},
   "source": [
    "### 5.Write a Python Program for cube sum of first n natural numbers?"
   ]
  },
  {
   "cell_type": "code",
   "execution_count": 8,
   "metadata": {},
   "outputs": [
    {
     "name": "stdout",
     "output_type": "stream",
     "text": [
      "Enter count : 20\n",
      "Sum of cubes of first 20 natural numbers is 0\n",
      "Sum of cubes of first 20 natural numbers is 1\n",
      "Sum of cubes of first 20 natural numbers is 9\n",
      "Sum of cubes of first 20 natural numbers is 36\n",
      "Sum of cubes of first 20 natural numbers is 100\n",
      "Sum of cubes of first 20 natural numbers is 225\n",
      "Sum of cubes of first 20 natural numbers is 441\n",
      "Sum of cubes of first 20 natural numbers is 784\n",
      "Sum of cubes of first 20 natural numbers is 1296\n",
      "Sum of cubes of first 20 natural numbers is 2025\n",
      "Sum of cubes of first 20 natural numbers is 3025\n",
      "Sum of cubes of first 20 natural numbers is 4356\n",
      "Sum of cubes of first 20 natural numbers is 6084\n",
      "Sum of cubes of first 20 natural numbers is 8281\n",
      "Sum of cubes of first 20 natural numbers is 11025\n",
      "Sum of cubes of first 20 natural numbers is 14400\n",
      "Sum of cubes of first 20 natural numbers is 18496\n",
      "Sum of cubes of first 20 natural numbers is 23409\n",
      "Sum of cubes of first 20 natural numbers is 29241\n",
      "Sum of cubes of first 20 natural numbers is 36100\n"
     ]
    }
   ],
   "source": [
    "n = int(input('Enter count : '))\n",
    "sum = 0\n",
    "if n>0:\n",
    "    for i in range(n):\n",
    "        sum += i**3\n",
    "        print(\"Sum of cubes of first {} natural numbers is {}\".format(n,sum))"
   ]
  },
  {
   "cell_type": "code",
   "execution_count": null,
   "metadata": {},
   "outputs": [],
   "source": []
  }
 ],
 "metadata": {
  "kernelspec": {
   "display_name": "Python 3",
   "language": "python",
   "name": "python3"
  },
  "language_info": {
   "codemirror_mode": {
    "name": "ipython",
    "version": 3
   },
   "file_extension": ".py",
   "mimetype": "text/x-python",
   "name": "python",
   "nbconvert_exporter": "python",
   "pygments_lexer": "ipython3",
   "version": "3.7.4"
  }
 },
 "nbformat": 4,
 "nbformat_minor": 2
}
