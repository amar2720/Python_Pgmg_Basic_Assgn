{
 "cells": [
  {
   "cell_type": "markdown",
   "metadata": {},
   "source": [
    "### 1.\tWrite a Python Program to find sum of array?"
   ]
  },
  {
   "cell_type": "code",
   "execution_count": 2,
   "metadata": {},
   "outputs": [
    {
     "name": "stdout",
     "output_type": "stream",
     "text": [
      "Enter count or No of elements you want in the array? : 3\n",
      "Enter a number :1\n",
      "Enter a number :2\n",
      "Enter a number :3\n",
      "Addition of all the numbers in [1, 2, 3] is 6\n"
     ]
    }
   ],
   "source": [
    "def addition(num_list):\n",
    "    '''\n",
    "    This function performs addition of n numbers and returns the sum \n",
    "    '''\n",
    "    sum1 = 0\n",
    "    for i in range(len(num_list)):\n",
    "        sum1 += num_list[i]\n",
    "    return sum1    \n",
    "\n",
    "n = int(input('Enter count or No of elements you want in the array? : '))\n",
    "l = []\n",
    "\n",
    "while n > 0:\n",
    "    l.append(int(input('Enter a number :')))\n",
    "    n -= 1\n",
    "print(f'Addition of all the numbers in {l} is {addition(l)}')"
   ]
  },
  {
   "cell_type": "markdown",
   "metadata": {},
   "source": [
    "### 2.Write a Python Program to find largest element in an array?"
   ]
  },
  {
   "cell_type": "code",
   "execution_count": 3,
   "metadata": {},
   "outputs": [
    {
     "name": "stdout",
     "output_type": "stream",
     "text": [
      "Enter count or No of elements you want in the array? :4\n",
      "Enter a number: 20\n",
      "Enter a number: 27\n",
      "Enter a number: 6\n",
      "Enter a number: 25\n",
      "Largest element of all the numbers in [20, 27, 6, 25] is 27\n"
     ]
    }
   ],
   "source": [
    "def max_num(num_list):\n",
    "    '''\n",
    "    This function finds the maximum of numbers in a list and returns it \n",
    "    '''\n",
    "    max1 = 0\n",
    "    for i in range(len(num_list)):\n",
    "        if num_list[i] > max1:\n",
    "            max1 = num_list[i]\n",
    "    return max1\n",
    "\n",
    "n = int(input('Enter count or No of elements you want in the array? :'))\n",
    "l = []\n",
    "\n",
    "while n > 0:\n",
    "    l.append(int(input('Enter a number: ')))\n",
    "    n -= 1\n",
    "    \n",
    "print(f'Largest element of all the numbers in {l} is {max_num(l)}')"
   ]
  },
  {
   "cell_type": "markdown",
   "metadata": {},
   "source": [
    "### 3.Write a Python Program for array rotation?"
   ]
  },
  {
   "cell_type": "code",
   "execution_count": 5,
   "metadata": {},
   "outputs": [
    {
     "name": "stdout",
     "output_type": "stream",
     "text": [
      "Enter the position by which you would like to shift array::2\n",
      "Enter the direction to which you would like to rotate array(left/right)::right\n",
      "[3, 4, 1, 2]\n"
     ]
    }
   ],
   "source": [
    "\n",
    "def right_rotate(numbers,position):\n",
    "    '''\n",
    "    This function performs array rotaion to the right by specified position  \n",
    "    '''\n",
    "    for i in range(0,position):\n",
    "        first = numbers[len(numbers)-1]\n",
    "        for j in range(len(numbers)-1,0,-1):\n",
    "            numbers[j] = numbers[j-1]\n",
    "        numbers[0] = first  \n",
    "    return numbers            \n",
    "   \n",
    "def left_rotate(numbers,position):\n",
    "    '''\n",
    "    This function performs array rotaion to the left by specified position  \n",
    "    '''\n",
    "    for i in range(0,position):\n",
    "        first = numbers[0]\n",
    "        for j in range(0,len(numbers)-1):\n",
    "            numbers[j] = numbers[j+1]\n",
    "        numbers[len(numbers)-1] = first  \n",
    "    return numbers            \n",
    "\n",
    "position = int(input('Enter the position by which you would like to shift array::'))\n",
    "direction = input('Enter the direction to which you would like to rotate array(left/right)::')\n",
    "\n",
    "if direction == 'right':\n",
    "    print(right_rotate([1,2,3,4],position))\n",
    "if direction == 'left':\n",
    "    print(left_rotate([5,6,7,8],position))"
   ]
  },
  {
   "cell_type": "markdown",
   "metadata": {},
   "source": [
    "### 4.Write a Python Program to Split the array and add the first part to the end?"
   ]
  },
  {
   "cell_type": "code",
   "execution_count": 6,
   "metadata": {},
   "outputs": [
    {
     "name": "stdout",
     "output_type": "stream",
     "text": [
      "Enter the index at which you would like to split array::3\n",
      "[4, 5, 1, 2, 3]\n"
     ]
    }
   ],
   "source": [
    "array = [1,2,3,4,5]\n",
    "position = int(input('Enter the index at which you would like to split array::'))\n",
    "\n",
    "# we can use the same left_rotate() function for this(Reusability)\n",
    "array = left_rotate(array,position)\n",
    "\n",
    "print(array)"
   ]
  },
  {
   "cell_type": "markdown",
   "metadata": {},
   "source": [
    "### 5.Write a Python Program to check if given array is Monotonic?"
   ]
  },
  {
   "cell_type": "code",
   "execution_count": 8,
   "metadata": {},
   "outputs": [
    {
     "name": "stdout",
     "output_type": "stream",
     "text": [
      "Not monotonic\n"
     ]
    }
   ],
   "source": [
    "array = [1,2,3,'arj',(1,2,3,4),[1,2,3,4]]\n",
    "#array = [1,2,3,4,5,6]\n",
    "#array = [[1,2,3,12.23],['a','b','c'],[(12,12),[2,3,4]],[{'a':1,'b':2}]]\n",
    "flag = 0\n",
    "\n",
    "for i in range(len(array)-1):\n",
    "    if type(array[i]) != type(array[i+1]):\n",
    "        flag = 1\n",
    "        break\n",
    "if flag == 1:\n",
    "    print('Not monotonic')\n",
    "else:\n",
    "    print('Monontonic')"
   ]
  },
  {
   "cell_type": "code",
   "execution_count": null,
   "metadata": {},
   "outputs": [],
   "source": []
  }
 ],
 "metadata": {
  "kernelspec": {
   "display_name": "Python 3",
   "language": "python",
   "name": "python3"
  },
  "language_info": {
   "codemirror_mode": {
    "name": "ipython",
    "version": 3
   },
   "file_extension": ".py",
   "mimetype": "text/x-python",
   "name": "python",
   "nbconvert_exporter": "python",
   "pygments_lexer": "ipython3",
   "version": "3.7.4"
  }
 },
 "nbformat": 4,
 "nbformat_minor": 2
}
